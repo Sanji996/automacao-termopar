{
  "nbformat": 4,
  "nbformat_minor": 0,
  "metadata": {
    "colab": {
      "provenance": []
    },
    "kernelspec": {
      "name": "python3",
      "display_name": "Python 3"
    },
    "language_info": {
      "name": "python"
    }
  },
  "cells": [
    {
      "cell_type": "markdown",
      "source": [
        "\n",
        "# Calculo Dos Valores de Temperatura\n",
        "- Digitar os respectivos valores de a (coeficiente)\n",
        "- Digitar o valor de X (tensão)\n",
        "- Retornar os valores de T (Temperatura)\n",
        "- Formula: 𝑇 = 𝑎0 + 𝑎1𝑋 + 𝑎2𝑋^2 + ⋯ + 𝑎𝑛𝑋^n\n",
        "- Objetivos: Gerar um gráfico e uma tabela no formato .csv"
      ],
      "metadata": {
        "id": "5_ADV2CX1Lls"
      }
    },
    {
      "cell_type": "code",
      "execution_count": 1,
      "metadata": {
        "id": "OOqeorPN1EbN"
      },
      "outputs": [],
      "source": [
        "import pandas as pd"
      ]
    },
    {
      "cell_type": "code",
      "source": [
        "tens = input('Digite os valores de tensao (separando cada valor de tensao por uma vírgula e usando ponto para números quebrados): ')\n",
        "coefic = input('Digite os valores de coeficiente (separando cada valor de coeficiente por uma vírgula e usando ponto para números quebrados): ')"
      ],
      "metadata": {
        "id": "ieNetvl91UEv"
      },
      "execution_count": null,
      "outputs": []
    },
    {
      "cell_type": "code",
      "source": [
        "tens_list = tens.split(',')\n",
        "coefic_list = coefic.split(',')\n",
        "\n",
        "max_length = max(len(tens_list), len(coefic_list))\n",
        "tens_list += ['NON'] * (max_length - len(tens_list))\n",
        "coefic_list += ['NON'] * (max_length - len(coefic_list))"
      ],
      "metadata": {
        "id": "BFa-WEOC1T8O"
      },
      "execution_count": 3,
      "outputs": []
    },
    {
      "cell_type": "code",
      "source": [
        "data = {'Tensão': tens_list, 'Coeficiente': coefic_list}\n",
        "data['Número de linha'] = [str(i) for i in range(max_length)]\n",
        "df = pd.DataFrame(data)"
      ],
      "metadata": {
        "id": "3I9o2Bop1apG"
      },
      "execution_count": 4,
      "outputs": []
    },
    {
      "cell_type": "code",
      "source": [
        "num_linhas = len(df)\n",
        "num_linhas"
      ],
      "metadata": {
        "id": "piT6cea81ck3"
      },
      "execution_count": null,
      "outputs": []
    },
    {
      "cell_type": "code",
      "source": [
        "df"
      ],
      "metadata": {
        "id": "yFw7keX-1erv"
      },
      "execution_count": null,
      "outputs": []
    },
    {
      "cell_type": "code",
      "source": [
        "temperatura = []\n",
        "for t in df['Tensão']:\n",
        "    if t != 'NON':\n",
        "        v = float(t) / 1000  # Converta tensao para float\n",
        "        resf = 0\n",
        "        for i in range(len(df)):\n",
        "            if df.loc[i, 'Coeficiente'] != 'NON':\n",
        "                coeficiente_numero = float(df.loc[i, 'Coeficiente'])  # Converta coeficiente para float\n",
        "                res = v ** i * coeficiente_numero  # Corrija o índice do expoente para iniciar em 0\n",
        "                resf += res\n",
        "        temperatura.append(resf)  # Adiciona resf à lista temperatura\n",
        "    else:\n",
        "        temperatura.append('NON')  # Adiciona 'NON' à lista temperatura se tensao for 'NON'\n",
        "\n",
        "print(temperatura)"
      ],
      "metadata": {
        "id": "6PaE_USk1hkm"
      },
      "execution_count": null,
      "outputs": []
    },
    {
      "cell_type": "markdown",
      "source": [
        "# Gerar o Grafico\n",
        "- Gerar um grafico TxV\n",
        "- Usar a biblioteca plotly"
      ],
      "metadata": {
        "id": "nA3mtZA41mEf"
      }
    },
    {
      "cell_type": "code",
      "source": [
        "!pip install -U plotly"
      ],
      "metadata": {
        "id": "SFzT2yYD1i1_"
      },
      "execution_count": null,
      "outputs": []
    },
    {
      "cell_type": "code",
      "source": [
        "import numpy as np\n",
        "import plotly.express as px"
      ],
      "metadata": {
        "id": "e-ra6OtV1rVv"
      },
      "execution_count": 9,
      "outputs": []
    },
    {
      "cell_type": "code",
      "source": [
        "# Criando o gráfico de linha com os dados filtrados\n",
        "graf = px.line(y=temperatura, x=df['Tensão'], title='Temperatura x Tensão em um Termopar Tipo E', height=500, width=800)\n",
        "\n",
        "# Mostrando o gráfico\n",
        "graf.show()"
      ],
      "metadata": {
        "id": "N0OLfVxo1sC-"
      },
      "execution_count": null,
      "outputs": []
    },
    {
      "cell_type": "code",
      "source": [
        "graf.update_yaxes(color='#4682B4', gridcolor='#F6F6F6', title= 'Temperatura(°C)')\n",
        "graf.update_xaxes(color='#4682B4',  gridcolor='#F6F6F6', title= 'Tensão(mV)')\n",
        "\n",
        "graf.update_layout(\n",
        "    plot_bgcolor='#ADD8E6'\n",
        ")\n",
        "graf.update_traces(line=dict(color='#008080'))\n",
        "\n",
        "graf.update_layout(title_font=dict(family=\"Arial\", size=25, color=\"#212F6A\"), title_x=0.5, title_y=0.95)"
      ],
      "metadata": {
        "id": "jlCkSADv1vH2"
      },
      "execution_count": null,
      "outputs": []
    },
    {
      "cell_type": "code",
      "source": [
        "df['Temperatura'] = temperatura\n",
        "df = df.drop(columns=['Número de linha'])\n",
        "df"
      ],
      "metadata": {
        "id": "1M8y3FNy12B1"
      },
      "execution_count": null,
      "outputs": []
    },
    {
      "cell_type": "code",
      "source": [
        "df.to_csv('termopT.csv', index=False, sep=';')"
      ],
      "metadata": {
        "id": "fEVbDe411-JW"
      },
      "execution_count": null,
      "outputs": []
    }
  ]
}